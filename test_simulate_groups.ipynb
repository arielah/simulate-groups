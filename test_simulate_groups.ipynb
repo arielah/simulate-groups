{
 "cells": [
  {
   "cell_type": "code",
   "execution_count": 1,
   "metadata": {},
   "outputs": [],
   "source": [
    "import numpy as np\n",
    "import matplotlib.pyplot as plt\n",
    "import seaborn as sns\n",
    "\n",
    "from simulate_groups import simulate_cov_groups, simulate_ll\n",
    "\n",
    "%load_ext autoreload\n",
    "%autoreload 2"
   ]
  },
  {
   "cell_type": "markdown",
   "metadata": {},
   "source": [
    "### Simulate data with block covariance structure"
   ]
  },
  {
   "cell_type": "code",
   "execution_count": 2,
   "metadata": {},
   "outputs": [
    {
     "data": {
      "text/plain": [
       "Text(0.5, 1, 'Covariance matrix')"
      ]
     },
     "execution_count": 2,
     "metadata": {},
     "output_type": "execute_result"
    },
    {
     "data": {
      "image/png": "[encoded data removed]",
      "text/plain": [
       "<Figure size 864x288 with 4 Axes>"
      ]
     },
     "metadata": {},
     "output_type": "display_data"
    }
   ],
   "source": [
    "theta_1, sigma_1 = simulate_cov_groups(20, 4)\n",
    "\n",
    "sns.set({'figure.figsize': (12, 4)})\n",
    "fig, axarr = plt.subplots(1, 2)\n",
    "\n",
    "sns.heatmap(theta_1, ax=axarr[0])\n",
    "axarr[0].get_xaxis().set_visible(False)\n",
    "axarr[0].get_yaxis().set_visible(False)\n",
    "axarr[0].set_title('Partial correlation matrix')\n",
    "sns.heatmap(sigma_1, ax=axarr[1])\n",
    "axarr[1].get_xaxis().set_visible(False)\n",
    "axarr[1].get_yaxis().set_visible(False)\n",
    "axarr[1].set_title('Covariance matrix')"
   ]
  },
  {
   "cell_type": "code",
   "execution_count": 3,
   "metadata": {},
   "outputs": [],
   "source": [
    "n = 1000\n",
    "p = theta_1.shape[0]\n",
    "\n",
    "# sample some data from MVN with the given covariance matrix\n",
    "X = np.random.multivariate_normal(mean=np.zeros(p),\n",
    "                                  cov=sigma_1,\n",
    "                                  size=(n,),\n",
    "                                  check_valid='warn')\n",
    "\n",
    "# calculate covariance/precision matrix from data\n",
    "sigma_hat = np.cov(X, rowvar=False)\n",
    "theta_hat = np.linalg.inv(sigma_hat)"
   ]
  },
  {
   "cell_type": "code",
   "execution_count": 4,
   "metadata": {},
   "outputs": [],
   "source": [
    "sns.set({'figure.figsize': (12, 4)})\n",
    "fig, axarr = plt.subplots(1, 2)\n",
    "\n",
    "# high/low diagonal values can skew the plot, so just bound them\n",
    "theta_1[theta_1 > 1] = 1\n",
    "theta_1[theta_1 < 0] = 0\n",
    "theta_hat[theta_hat > 1] = 1\n",
    "theta_hat[theta_hat < 0] = 0\n",
    "\n",
    "sns.heatmap(theta_1, ax=axarr[0])\n",
    "axarr[0].get_xaxis().set_visible(False)\n",
    "axarr[0].get_yaxis().set_visible(False)\n",
    "axarr[0].set_title('Input partial correlation matrix')\n",
    "sns.heatmap(theta_hat, ax=axarr[1])\n",
    "axarr[1].get_xaxis().set_visible(False)\n",
    "axarr[1].get_yaxis().set_visible(False)\n",
    "axarr[1].set_title('Partial correlations estimated from data')"
   ]
  },
  {
   "cell_type": "markdown",
   "metadata": {},
   "source": [
    "### Simulate labels from data"
   ]
  },
  {
   "cell_type": "code",
   "execution_count": 18,
   "metadata": {},
   "outputs": [
    {
     "name": "stdout",
     "output_type": "stream",
     "text": [
      "[[-0.38535146  0.32474421  0.11335919  0.00631544 -0.16120265]\n",
      " [-0.06085883 -0.39867252  0.25686915 -0.39049982 -0.13949537]\n",
      " [-0.01153978 -0.14751811 -0.05053739 -0.12523035 -0.26560903]\n",
      " [ 0.297419    0.40099313 -0.05391401 -0.03994211  0.50045906]\n",
      " [-0.26572235  0.24060383 -0.20802245  0.23825747  0.11198087]]\n"
     ]
    }
   ],
   "source": [
    "X, y, pis, is_correlated = simulate_ll(10, 100, 0.0, 4, s\n",
    "print(X[:5, :5])"
   ]
  },
  {
   "cell_type": "code",
   "execution_count": 19,
   "metadata": {},
   "outputs": [
    {
     "name": "stdout",
     "output_type": "stream",
     "text": [
      "0.5\n",
      "[0 0 0 0 1 1 1 0 1 1]\n"
     ]
    }
   ],
   "source": [
    "print(np.count_nonzero(y) / y.shape[0])\n",
    "print(y)"
   ]
  },
  {
   "cell_type": "code",
   "execution_count": 20,
   "metadata": {},
   "outputs": [
    {
     "name": "stdout",
     "output_type": "stream",
     "text": [
      "[[9.28064269e-07]\n",
      " [9.42179093e-05]\n",
      " [2.19527573e-03]\n",
      " [5.38384637e-01]\n",
      " [9.98677708e-01]\n",
      " [9.98148440e-01]\n",
      " [9.81286718e-01]\n",
      " [1.12057885e-03]\n",
      " [9.99923889e-01]\n",
      " [2.86821769e-01]]\n"
     ]
    }
   ],
   "source": [
    "print(pis)"
   ]
  },
  {
   "cell_type": "code",
   "execution_count": null,
   "metadata": {},
   "outputs": [],
   "source": []
  }
 ],
 "metadata": {
  "kernelspec": {
   "display_name": "Python [conda env:netscape]",
   "language": "python",
   "name": "conda-env-netscape-py"
  },
  "language_info": {
   "codemirror_mode": {
    "name": "ipython",
    "version": 3
   },
   "file_extension": ".py",
   "mimetype": "text/x-python",
   "name": "python",
   "nbconvert_exporter": "python",
   "pygments_lexer": "ipython3",
   "version": "3.6.9"
  }
 },
 "nbformat": 4,
 "nbformat_minor": 4
}
