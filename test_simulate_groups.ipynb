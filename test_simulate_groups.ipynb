{
 "cells": [
  {
   "cell_type": "code",
   "execution_count": 1,
   "metadata": {},
   "outputs": [],
   "source": [
    "import numpy as np\n",
    "import matplotlib.pyplot as plt\n",
    "import seaborn as sns\n",
    "\n",
    "from simulate_groups import (\n",
    "    simulate_groups,\n",
    "    simulate_cov_groups,\n",
    "    simulate_ll\n",
    ")\n",
    "\n",
    "%load_ext autoreload\n",
    "%autoreload 2"
   ]
  },
  {
   "cell_type": "markdown",
   "metadata": {},
   "source": [
    "### Simulate data with block covariance structure"
   ]
  },
  {
   "cell_type": "code",
   "execution_count": 2,
   "metadata": {},
   "outputs": [
    {
     "data": {
      "text/plain": [
       "Text(0.5, 1, 'Covariance matrix')"
      ]
     },
     "execution_count": 2,
     "metadata": {},
     "output_type": "execute_result"
    },
    {
     "data": {
      "image/png": "[encoded data removed]",
      "text/plain": [
       "<Figure size 432x288 with 2 Axes>"
      ]
     },
     "metadata": {},
     "output_type": "display_data"
    }
   ],
   "source": [
    "sigma_1, _ = simulate_groups(20, 4)\n",
    "\n",
    "sns.set()\n",
    "sns.heatmap(sigma_1)\n",
    "ax = plt.gca()\n",
    "ax.get_xaxis().set_visible(False)\n",
    "ax.get_yaxis().set_visible(False)\n",
    "ax.set_title('Covariance matrix')"
   ]
  },
  {
   "cell_type": "code",
   "execution_count": 3,
   "metadata": {},
   "outputs": [],
   "source": [
    "n = 1000\n",
    "p = sigma_1.shape[0]\n",
    "\n",
    "# sample some data from MVN with the given covariance matrix\n",
    "X = np.random.multivariate_normal(mean=np.zeros(p),\n",
    "                                  cov=sigma_1,\n",
    "                                  size=(n,),\n",
    "                                  check_valid='warn')\n",
    "\n",
    "# calculate covariance/precision matrix from data\n",
    "sigma_hat = np.cov(X, rowvar=False)\n",
    "theta_hat = np.linalg.inv(sigma_hat)"
   ]
  },
  {
   "cell_type": "code",
   "execution_count": 4,
   "metadata": {},
   "outputs": [
    {
     "data": {
      "text/plain": [
       "Text(0.5, 1, 'Covariance estimated from data')"
      ]
     },
     "execution_count": 4,
     "metadata": {},
     "output_type": "execute_result"
    },
    {
     "data": {
      "image/png": "[encoded data removed]",
      "text/plain": [
       "<Figure size 864x288 with 4 Axes>"
      ]
     },
     "metadata": {},
     "output_type": "display_data"
    }
   ],
   "source": [
    "sns.set({'figure.figsize': (12, 4)})\n",
    "fig, axarr = plt.subplots(1, 2)\n",
    "\n",
    "# high/low diagonal values can skew the plot, so just bound them\n",
    "sigma_1[sigma_1 > 1] = 1\n",
    "sigma_1[sigma_1 < 0] = 0\n",
    "sigma_hat[sigma_hat > 1] = 1\n",
    "theta_hat[sigma_hat < 0] = 0\n",
    "\n",
    "sns.heatmap(sigma_1, ax=axarr[0])\n",
    "axarr[0].get_xaxis().set_visible(False)\n",
    "axarr[0].get_yaxis().set_visible(False)\n",
    "axarr[0].set_title('Input covariance matrix')\n",
    "sns.heatmap(sigma_hat, ax=axarr[1])\n",
    "axarr[1].get_xaxis().set_visible(False)\n",
    "axarr[1].get_yaxis().set_visible(False)\n",
    "axarr[1].set_title('Covariance estimated from data')"
   ]
  },
  {
   "cell_type": "markdown",
   "metadata": {},
   "source": [
    "### Simulate labels from data"
   ]
  },
  {
   "cell_type": "code",
   "execution_count": 5,
   "metadata": {},
   "outputs": [
    {
     "name": "stdout",
     "output_type": "stream",
     "text": [
      "[[-1.47816766 -1.17570656 -0.56630148 -1.48762442  0.33547538]\n",
      " [-0.26205586 -0.05587172 -0.02080083  0.21638135  0.61364603]\n",
      " [ 0.71310067  1.00108528  0.29241222  1.23167487 -1.51553243]\n",
      " [-0.23108802  0.67125536  0.09953118  0.06573449 -1.00338809]\n",
      " [-0.01255777 -0.11969667 -0.25747886 -0.07409819 -0.19533712]]\n"
     ]
    }
   ],
   "source": [
    "X, y, info_dict = simulate_ll(n=10,\n",
    "                              p=20,\n",
    "                              uncorr_frac=0.1,\n",
    "                              num_groups=5,\n",
    "                              group_sparsity=0.5,\n",
    "                              seed=1)\n",
    "print(X[:5, :5])"
   ]
  },
  {
   "cell_type": "code",
   "execution_count": 6,
   "metadata": {},
   "outputs": [
    {
     "name": "stdout",
     "output_type": "stream",
     "text": [
      "0.4\n",
      "[0 0 1 1 1 0 0 0 0 1]\n"
     ]
    }
   ],
   "source": [
    "print(np.count_nonzero(y) / y.shape[0])\n",
    "print(y)"
   ]
  },
  {
   "cell_type": "code",
   "execution_count": 7,
   "metadata": {},
   "outputs": [
    {
     "name": "stdout",
     "output_type": "stream",
     "text": [
      "{'betas': array([-0.2361257 , -0.2361257 , -0.2361257 , -0.2361257 , -1.70671527,\n",
      "       -1.70671527, -1.70671527, -1.70671527,  0.        ,  0.        ,\n",
      "        0.        ,  0.        ,  0.        ,  0.        ,  0.        ,\n",
      "        0.        ,  0.        ,  0.        , -1.27771126]), 'pis': array([[5.84862924e-02],\n",
      "       [1.23793908e-03],\n",
      "       [9.97908775e-01],\n",
      "       [9.38738636e-01],\n",
      "       [5.97030966e-01],\n",
      "       [9.00043657e-02],\n",
      "       [2.60651157e-04],\n",
      "       [2.24672408e-03],\n",
      "       [3.70418189e-01],\n",
      "       [7.92840710e-01]]), 'groups': [array([0, 1, 2, 3]), array([4, 5, 6, 7]), array([ 8,  9, 10, 11]), array([12, 13, 14]), array([15, 16, 17])], 'is_correlated': array([ True,  True,  True,  True,  True,  True,  True,  True,  True,\n",
      "        True,  True,  True,  True,  True,  True,  True,  True,  True,\n",
      "       False, False])}\n"
     ]
    }
   ],
   "source": [
    "print({k: v for k, v in info_dict.items() if k != 'sigma'})"
   ]
  },
  {
   "cell_type": "code",
   "execution_count": 8,
   "metadata": {},
   "outputs": [
    {
     "data": {
      "text/plain": [
       "<matplotlib.axes._subplots.AxesSubplot at 0x7f13a436e6a0>"
      ]
     },
     "execution_count": 8,
     "metadata": {},
     "output_type": "execute_result"
    },
    {
     "data": {
      "image/png": "[encoded data removed]",
      "text/plain": [
       "<Figure size 576x432 with 2 Axes>"
      ]
     },
     "metadata": {},
     "output_type": "display_data"
    }
   ],
   "source": [
    "sns.set({'figure.figsize': (8, 6)})\n",
    "sns.heatmap(info_dict['sigma'])"
   ]
  }
 ],
 "metadata": {
  "kernelspec": {
   "display_name": "Python [conda env:netscape]",
   "language": "python",
   "name": "conda-env-netscape-py"
  },
  "language_info": {
   "codemirror_mode": {
    "name": "ipython",
    "version": 3
   },
   "file_extension": ".py",
   "mimetype": "text/x-python",
   "name": "python",
   "nbconvert_exporter": "python",
   "pygments_lexer": "ipython3",
   "version": "3.6.9"
  }
 },
 "nbformat": 4,
 "nbformat_minor": 4
}
