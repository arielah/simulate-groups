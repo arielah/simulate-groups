{
 "cells": [
  {
   "cell_type": "code",
   "execution_count": 1,
   "metadata": {},
   "outputs": [],
   "source": [
    "import numpy as np\n",
    "import matplotlib.pyplot as plt\n",
    "import seaborn as sns\n",
    "\n",
    "from simulate_groups import simulate_cov_groups, simulate_ll\n",
    "\n",
    "%load_ext autoreload\n",
    "%autoreload 2"
   ]
  },
  {
   "cell_type": "markdown",
   "metadata": {},
   "source": [
    "### Simulate data with block covariance structure"
   ]
  },
  {
   "cell_type": "code",
   "execution_count": 2,
   "metadata": {},
   "outputs": [
    {
     "data": {
      "text/plain": [
       "Text(0.5, 1, 'Covariance matrix')"
      ]
     },
     "execution_count": 2,
     "metadata": {},
     "output_type": "execute_result"
    },
    {
     "data": {
      "image/png": "[encoded data removed]",
      "text/plain": [
       "<Figure size 864x288 with 4 Axes>"
      ]
     },
     "metadata": {},
     "output_type": "display_data"
    }
   ],
   "source": [
    "theta_1, sigma_1, _ = simulate_cov_groups(20, 4)\n",
    "\n",
    "sns.set({'figure.figsize': (12, 4)})\n",
    "fig, axarr = plt.subplots(1, 2)\n",
    "\n",
    "sns.heatmap(theta_1, ax=axarr[0])\n",
    "axarr[0].get_xaxis().set_visible(False)\n",
    "axarr[0].get_yaxis().set_visible(False)\n",
    "axarr[0].set_title('Partial correlation matrix')\n",
    "sns.heatmap(sigma_1, ax=axarr[1])\n",
    "axarr[1].get_xaxis().set_visible(False)\n",
    "axarr[1].get_yaxis().set_visible(False)\n",
    "axarr[1].set_title('Covariance matrix')"
   ]
  },
  {
   "cell_type": "code",
   "execution_count": 3,
   "metadata": {},
   "outputs": [],
   "source": [
    "n = 1000\n",
    "p = theta_1.shape[0]\n",
    "\n",
    "# sample some data from MVN with the given covariance matrix\n",
    "X = np.random.multivariate_normal(mean=np.zeros(p),\n",
    "                                  cov=sigma_1,\n",
    "                                  size=(n,),\n",
    "                                  check_valid='warn')\n",
    "\n",
    "# calculate covariance/precision matrix from data\n",
    "sigma_hat = np.cov(X, rowvar=False)\n",
    "theta_hat = np.linalg.inv(sigma_hat)"
   ]
  },
  {
   "cell_type": "code",
   "execution_count": 4,
   "metadata": {},
   "outputs": [
    {
     "data": {
      "text/plain": [
       "Text(0.5, 1, 'Partial correlations estimated from data')"
      ]
     },
     "execution_count": 4,
     "metadata": {},
     "output_type": "execute_result"
    },
    {
     "data": {
      "image/png": "[encoded data removed]",
      "text/plain": [
       "<Figure size 864x288 with 4 Axes>"
      ]
     },
     "metadata": {},
     "output_type": "display_data"
    }
   ],
   "source": [
    "sns.set({'figure.figsize': (12, 4)})\n",
    "fig, axarr = plt.subplots(1, 2)\n",
    "\n",
    "# high/low diagonal values can skew the plot, so just bound them\n",
    "theta_1[theta_1 > 1] = 1\n",
    "theta_1[theta_1 < 0] = 0\n",
    "theta_hat[theta_hat > 1] = 1\n",
    "theta_hat[theta_hat < 0] = 0\n",
    "\n",
    "sns.heatmap(theta_1, ax=axarr[0])\n",
    "axarr[0].get_xaxis().set_visible(False)\n",
    "axarr[0].get_yaxis().set_visible(False)\n",
    "axarr[0].set_title('Input partial correlation matrix')\n",
    "sns.heatmap(theta_hat, ax=axarr[1])\n",
    "axarr[1].get_xaxis().set_visible(False)\n",
    "axarr[1].get_yaxis().set_visible(False)\n",
    "axarr[1].set_title('Partial correlations estimated from data')"
   ]
  },
  {
   "cell_type": "markdown",
   "metadata": {},
   "source": [
    "### Simulate labels from data"
   ]
  },
  {
   "cell_type": "code",
   "execution_count": 5,
   "metadata": {},
   "outputs": [
    {
     "name": "stdout",
     "output_type": "stream",
     "text": [
      "(19,)\n",
      "(10, 18)\n",
      "[[-0.76531295  1.01170378  1.7314438  -0.08989119  0.43355888]\n",
      " [ 0.26467424  0.66491765 -0.28598222  0.18289593  1.01216049]\n",
      " [ 0.91280417 -0.06013356 -1.47624147  0.38055799 -0.77553074]\n",
      " [ 0.63433943  0.34782878  0.15300336  0.08619171 -0.09002897]\n",
      " [-0.24473074  0.09184639 -0.24312146  0.11939815 -0.26563796]]\n"
     ]
    }
   ],
   "source": [
    "X, y, info_dict = simulate_ll(n=10,\n",
    "                              p=20,\n",
    "                              uncorr_frac=0.1,\n",
    "                              num_groups=5,\n",
    "                              group_sparsity=0.5,\n",
    "                              seed=1)\n",
    "print(X[:5, :5])"
   ]
  },
  {
   "cell_type": "code",
   "execution_count": 6,
   "metadata": {},
   "outputs": [
    {
     "name": "stdout",
     "output_type": "stream",
     "text": [
      "0.2\n",
      "[0 0 0 0 0 1 0 1 0 0]\n"
     ]
    }
   ],
   "source": [
    "print(np.count_nonzero(y) / y.shape[0])\n",
    "print(y)"
   ]
  },
  {
   "cell_type": "code",
   "execution_count": 7,
   "metadata": {},
   "outputs": [
    {
     "name": "stdout",
     "output_type": "stream",
     "text": [
      "{'betas': array([-0.2361257 , -0.2361257 , -0.2361257 , -0.2361257 , -1.70671527,\n",
      "       -1.70671527, -1.70671527, -1.70671527,  0.        ,  0.        ,\n",
      "        0.        ,  0.        ,  0.        ,  0.        ,  0.        ,\n",
      "        0.        ,  0.        ,  0.        , -1.27771126]), 'pis': array([[0.17696443],\n",
      "       [0.16921831],\n",
      "       [0.01052837],\n",
      "       [0.00943588],\n",
      "       [0.2152932 ],\n",
      "       [0.53709481],\n",
      "       [0.06857528],\n",
      "       [0.72547242],\n",
      "       [0.07560652],\n",
      "       [0.3306583 ]]), 'groups': [array([0, 1, 2, 3]), array([4, 5, 6, 7]), array([ 8,  9, 10, 11]), array([12, 13, 14]), array([15, 16, 17])], 'is_correlated': array([ True,  True,  True,  True,  True,  True,  True,  True,  True,\n",
      "        True,  True,  True,  True,  True,  True,  True,  True,  True,\n",
      "       False, False])}\n"
     ]
    }
   ],
   "source": [
    "print({k: v for k, v in info_dict.items() if k != 'sigma'})"
   ]
  },
  {
   "cell_type": "code",
   "execution_count": 8,
   "metadata": {},
   "outputs": [
    {
     "data": {
      "text/plain": [
       "<matplotlib.axes._subplots.AxesSubplot at 0x7fd8156ab278>"
      ]
     },
     "execution_count": 8,
     "metadata": {},
     "output_type": "execute_result"
    },
    {
     "data": {
      "image/png": "[encoded data removed]",
      "text/plain": [
       "<Figure size 576x432 with 2 Axes>"
      ]
     },
     "metadata": {},
     "output_type": "display_data"
    }
   ],
   "source": [
    "sns.set({'figure.figsize': (8, 6)})\n",
    "sns.heatmap(info_dict['sigma'])"
   ]
  }
 ],
 "metadata": {
  "kernelspec": {
   "display_name": "Python [conda env:netscape]",
   "language": "python",
   "name": "conda-env-netscape-py"
  },
  "language_info": {
   "codemirror_mode": {
    "name": "ipython",
    "version": 3
   },
   "file_extension": ".py",
   "mimetype": "text/x-python",
   "name": "python",
   "nbconvert_exporter": "python",
   "pygments_lexer": "ipython3",
   "version": "3.6.9"
  }
 },
 "nbformat": 4,
 "nbformat_minor": 4
}
